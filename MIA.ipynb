{
 "cells": [
  {
   "cell_type": "code",
   "execution_count": 1,
   "metadata": {},
   "outputs": [],
   "source": [
    "import os\n",
    "import time\n",
    "import datetime\n",
    "import shutil # used to copy files\n",
    "import warnings\n",
    "#warnings.filterwarnings('ignore')  # force to ignore warnings\n",
    "\n",
    "# load configuration setting\n",
    "from utils import config"
   ]
  },
  {
   "cell_type": "markdown",
   "metadata": {},
   "source": [
    "# Stage 0: Initialize settings"
   ]
  },
  {
   "cell_type": "code",
   "execution_count": 2,
   "metadata": {},
   "outputs": [],
   "source": [
    "## Realization of config() class\n",
    "# configurations are listed in ../config/config.yaml\n",
    "config = config()"
   ]
  },
  {
   "cell_type": "code",
   "execution_count": 3,
   "metadata": {},
   "outputs": [
    {
     "data": {
      "text/plain": [
       "'results/2020_06_06_00_25/config.yaml'"
      ]
     },
     "execution_count": 3,
     "metadata": {},
     "output_type": "execute_result"
    }
   ],
   "source": [
    "## Setup the path for saving the results\n",
    "now = str(datetime.datetime.now())[:16].replace(\":\",\"_\").replace(\"-\",\"_\").replace(\" \",\"_\")\n",
    "sourcePath = config.path.dataPath\n",
    "path = config.path.resultPath + str(now)\n",
    "# Create a folder for saving the result\n",
    "os.mkdir(path)\n",
    "destinationPath = path+\"/config.yaml\"\n",
    "shutil.copy(sourcePath,destinationPath)"
   ]
  },
  {
   "cell_type": "markdown",
   "metadata": {},
   "source": [
    "# Stage 1: Train the Target Model"
   ]
  },
  {
   "cell_type": "markdown",
   "metadata": {},
   "source": [
    "### Step 0: Initialization"
   ]
  },
  {
   "cell_type": "code",
   "execution_count": 4,
   "metadata": {},
   "outputs": [],
   "source": [
    "## Import packages\n",
    "# PyTorch packages\n",
    "import torch"
   ]
  },
  {
   "cell_type": "code",
   "execution_count": 5,
   "metadata": {},
   "outputs": [
    {
     "name": "stdout",
     "output_type": "stream",
     "text": [
      "Models are trained on: GPU\n"
     ]
    }
   ],
   "source": [
    "## Sets the seed for generating random numbers\n",
    "# Setting the random seed manually --> garantee each time has the same result of randomization.\n",
    "torch.manual_seed(config.general.seed)\n",
    "\n",
    "## Detect GPU and Set up device\n",
    "use_cuda = config.general.use_cuda and torch.cuda.is_available()\n",
    "device = torch.device(\"cuda\" if use_cuda else \"cpu\")\n",
    "print(\"Models are trained on: GPU\" if use_cuda else \"Models are trained on: CPU\")"
   ]
  },
  {
   "cell_type": "markdown",
   "metadata": {},
   "source": [
    "### Step 1: Extract data records from dataset CIFAR10"
   ]
  },
  {
   "cell_type": "code",
   "execution_count": 6,
   "metadata": {},
   "outputs": [],
   "source": [
    "from torchvision import transforms\n",
    "\n",
    "# Set up the transformation of the dataset\n",
    "transform=transforms.Compose([\n",
    "                    #transforms.RandomCrop(32, padding=4),\n",
    "                    #transforms.RandomHorizontalFlip(),\n",
    "                    transforms.ToTensor(),\n",
    "                    transforms.Normalize(mean=[0.4914,0.4822, 0.4465],std=[0.2023,0.1994,0.2010])\n",
    "               ])"
   ]
  },
  {
   "cell_type": "code",
   "execution_count": 7,
   "metadata": {},
   "outputs": [],
   "source": [
    "import torchvision\n",
    "from torchvision.datasets import CIFAR10\n",
    "import numpy as np\n",
    "from PIL import Image"
   ]
  },
  {
   "cell_type": "code",
   "execution_count": 8,
   "metadata": {},
   "outputs": [],
   "source": [
    "## Inherit and modify the official CIFAR10 class\n",
    "class custumCIFAR10(CIFAR10):\n",
    "\n",
    "    def __init__(self, isTargetModel, indexOfShadow, config, *args, **kwargs):\n",
    "        \"\"\"\n",
    "        Arguments:\n",
    "            isTargetModel(boolen): whether is target model's dataset\n",
    "            indexOfShadow: if it is Shadow Models' dataset, the index of the shadow model\n",
    "        Returns:\n",
    "            tuple: (image, target) where target is index of the target class.\n",
    "        \"\"\"\n",
    "        super().__init__(*args, **kwargs)\n",
    "        self.config = config\n",
    "        if self.train: # If it is going to train the model\n",
    "            if isTargetModel: # For the target model\n",
    "                # data records\n",
    "                self.data = self.data[:config.general.targetTrainingSize]\n",
    "                # data labels\n",
    "                self.targets = self.targets[:config.general.targetTrainingSize]\n",
    "            else: # For the shadow models\n",
    "                overlapRate = config.evaluate.overlapRate\n",
    "                shift = - int(overlapRate*config.general.targetTrainingSize)\n",
    "                #print(\"Shift: \" + str(shift))\n",
    "                #self.data = self.data[config.general.targetTrainingSize+shift:]\n",
    "                self.data = self.data[config.general.targetTrainingSize*(indexOfShadow+1)+shift:\n",
    "                                      shift+config.general.targetTrainingSize*(indexOfShadow+2)]\n",
    "                self.targets = self.targets[config.general.targetTrainingSize*(indexOfShadow+1)+shift:\n",
    "                                            shift+config.general.targetTrainingSize*(indexOfShadow+2)]\n",
    "        else: # If it is going to test the model\n",
    "            if isTargetModel: # For the target model\n",
    "                self.data = self.data[:config.general.targetTestSize]\n",
    "                self.targets = self.targets[:config.general.targetTestSize]\n",
    "            else: # For the shadow models\n",
    "                #self.data = self.data[config.general.targetTestSize:]\n",
    "                self.data = self.data[config.general.targetTestSize*(indexOfShadow+1):\n",
    "                                      config.general.targetTestSize*(indexOfShadow+2)]\n",
    "                self.targets = self.targets[config.general.targetTestSize*(indexOfShadow+1):\n",
    "                                            config.general.targetTestSize*(indexOfShadow+2)]\n",
    "\n",
    "    def __getitem__(self, index):\n",
    "        \"\"\"\n",
    "        Arguments:\n",
    "            index (int): Index\n",
    "\n",
    "        Returns:\n",
    "            tuple: (image, target) where target is index of the target class.\n",
    "        \"\"\"\n",
    "        if self.train:\n",
    "            index = index % self.config.general.targetTrainingSize\n",
    "        else:\n",
    "            index = index % self.config.general.targetTestSize\n",
    "        img, target = self.data[index], self.targets[index]\n",
    "        img = Image.fromarray(img)\n",
    "        if self.transform is not None:\n",
    "            img = self.transform(img)\n",
    "        if self.target_transform is not None:\n",
    "            target = self.target_transform(target)\n",
    "\n",
    "        return img, target"
   ]
  },
  {
   "cell_type": "code",
   "execution_count": 9,
   "metadata": {},
   "outputs": [
    {
     "name": "stdout",
     "output_type": "stream",
     "text": [
      "Files already downloaded and verified\n"
     ]
    }
   ],
   "source": [
    "## Extract data record from dataset CIFAR10\n",
    "# Arguments: isTargetModel, indexOfShadowModel, configuration, path, (downloadDataset),trainOrTest, transform.\n",
    "targetTrainData = custumCIFAR10(True, 0, config, '../data', train=True, download=True, transform=transform)\n",
    "targetTestData = custumCIFAR10(True, 0, config, '../data', train=False, transform=transform)"
   ]
  },
  {
   "cell_type": "markdown",
   "metadata": {},
   "source": [
    "### Step 2: Use PyTorch dataloader to load the data records for the Target Model "
   ]
  },
  {
   "cell_type": "code",
   "execution_count": 10,
   "metadata": {},
   "outputs": [],
   "source": [
    "## Load data for the target model\n",
    "targetTrainLoader = torch.utils.data.DataLoader(targetTrainData,\n",
    "                                          batch_size=config.learning.batchSize, \n",
    "                                          shuffle=True)\n",
    "targetTestLoader = torch.utils.data.DataLoader(targetTestData,\n",
    "                                          batch_size=config.learning.batchSize, \n",
    "                                          shuffle=True)\n",
    "\n",
    "targetDataLoader = {\"train\": targetTrainLoader, \"val\": targetTestLoader}\n",
    "targetDatasetSizes = {\"train\": len(targetTrainData), \"val\": len(targetTestData)}"
   ]
  },
  {
   "cell_type": "markdown",
   "metadata": {},
   "source": [
    "### Step 3: Define & Load Network Architecture"
   ]
  },
  {
   "cell_type": "code",
   "execution_count": 11,
   "metadata": {},
   "outputs": [],
   "source": [
    "import torch.nn as nn\n",
    "import torch.nn.functional as F"
   ]
  },
  {
   "cell_type": "code",
   "execution_count": 12,
   "metadata": {},
   "outputs": [],
   "source": [
    "## Define Network Architecture\n",
    "# CNN2\n",
    "class Net_cifar10_CNN2(nn.Module):\n",
    "    def __init__(self):\n",
    "        super(Net_cifar10_CNN2, self).__init__()\n",
    "        # first convolutional layer: input channel * 3(RGB); output channel * 6; kernal size: 5*5 \n",
    "        self.conv1 = nn.Conv2d(3, 6, 5)\n",
    "        # first max pooling layer: kernal size: 2*2; stride: 2\n",
    "        self.pool = nn.MaxPool2d(2, 2)\n",
    "        # second convolutional layer: input channel * 6; output channel * 16; kernal size: 5*5 \n",
    "        self.conv2 = nn.Conv2d(6, 16, 5)\n",
    "        # first fully-connected layer - flatten the output from the final max-pooling layer\n",
    "        self.fc1 = nn.Linear(16 * 5 * 5, 128)\n",
    "        # (last fully-connected layer) output layer\n",
    "        self.fc2 = nn.Linear(128, 10)\n",
    "\n",
    "    def forward(self, x):\n",
    "        x = self.pool(torch.tanh(self.conv1(x)))\n",
    "        x = self.pool(torch.tanh(self.conv2(x)))\n",
    "        x = x.view(-1, 16 * 5 * 5)\n",
    "        x = torch.tanh(self.fc1(x))\n",
    "        x = self.fc2(x)\n",
    "        return x"
   ]
  },
  {
   "cell_type": "code",
   "execution_count": 13,
   "metadata": {},
   "outputs": [],
   "source": [
    "# CNN3\n",
    "class Net_cifar10_CNN3(nn.Module):\n",
    "    def __init__(self):\n",
    "        super(Net_cifar10_CNN3, self).__init__()\n",
    "        self.conv_layer = nn.Sequential(\n",
    "            # Conv Layer block 1\n",
    "            nn.Conv2d(in_channels=3, out_channels=32, kernel_size=3, padding=1),\n",
    "            nn.BatchNorm2d(32),\n",
    "            nn.ReLU(inplace=True),\n",
    "            nn.Conv2d(in_channels=32, out_channels=64, kernel_size=3, padding=1),\n",
    "            nn.ReLU(inplace=True),\n",
    "            nn.MaxPool2d(kernel_size=2, stride=2),\n",
    "\n",
    "            # Conv Layer block 2\n",
    "            nn.Conv2d(in_channels=64, out_channels=128, kernel_size=3, padding=1),\n",
    "            nn.BatchNorm2d(128),\n",
    "            nn.ReLU(inplace=True),\n",
    "            nn.Conv2d(in_channels=128, out_channels=128, kernel_size=3, padding=1),\n",
    "            nn.ReLU(inplace=True),\n",
    "            nn.MaxPool2d(kernel_size=2, stride=2),\n",
    "            nn.Dropout2d(p=0.05),\n",
    "\n",
    "            # Conv Layer block 3\n",
    "            nn.Conv2d(in_channels=128, out_channels=256, kernel_size=3, padding=1),\n",
    "            nn.BatchNorm2d(256),\n",
    "            nn.ReLU(inplace=True),\n",
    "            nn.Conv2d(in_channels=256, out_channels=256, kernel_size=3, padding=1),\n",
    "            nn.ReLU(inplace=True),\n",
    "            nn.MaxPool2d(kernel_size=2, stride=2),\n",
    "        )\n",
    "        self.fc_layer = nn.Sequential(\n",
    "            nn.Dropout(p=0.1),\n",
    "            nn.Linear(4096, 1024),\n",
    "            nn.ReLU(inplace=True),\n",
    "            nn.Linear(1024, 512),\n",
    "            nn.ReLU(inplace=True),\n",
    "            nn.Dropout(p=0.1),\n",
    "            nn.Linear(512, 10)\n",
    "        )\n",
    "        \n",
    "    def forward(self, x):\n",
    "        # conv layers\n",
    "        x = self.conv_layer(x)\n",
    "        # flatten\n",
    "        x = x.view(x.size(0), -1)\n",
    "        # fc layer\n",
    "        x = self.fc_layer(x)\n",
    "        return x #nn.Softmax(dim=1)(x)"
   ]
  },
  {
   "cell_type": "code",
   "execution_count": 14,
   "metadata": {},
   "outputs": [],
   "source": [
    "class ResidualBlock(nn.Module):\n",
    "    def __init__(self, inchannel, outchannel, stride=1):\n",
    "        super(ResidualBlock, self).__init__()\n",
    "        self.left = nn.Sequential(\n",
    "            nn.Conv2d(inchannel, outchannel, kernel_size=3, stride=stride, padding=1, bias=False),\n",
    "            nn.BatchNorm2d(outchannel),\n",
    "            nn.ReLU(inplace=True),\n",
    "            nn.Conv2d(outchannel, outchannel, kernel_size=3, stride=1, padding=1, bias=False),\n",
    "            nn.BatchNorm2d(outchannel)\n",
    "        )\n",
    "        self.shortcut = nn.Sequential()\n",
    "        if stride != 1 or inchannel != outchannel:\n",
    "            self.shortcut = nn.Sequential(\n",
    "                nn.Conv2d(inchannel, outchannel, kernel_size=1, stride=stride, bias=False),\n",
    "                nn.BatchNorm2d(outchannel)\n",
    "            )\n",
    "\n",
    "    def forward(self, x):\n",
    "        out = self.left(x)\n",
    "        out += self.shortcut(x)\n",
    "        out = F.relu(out)\n",
    "        return out\n",
    "\n",
    "class ResNet(nn.Module):\n",
    "    def __init__(self, ResidualBlock, num_classes=10):\n",
    "        super(ResNet, self).__init__()\n",
    "        self.inchannel = 64\n",
    "        self.conv1 = nn.Sequential(\n",
    "            nn.Conv2d(3, 64, kernel_size=3, stride=1, padding=1, bias=False),\n",
    "            nn.BatchNorm2d(64),\n",
    "            nn.ReLU(),\n",
    "        )\n",
    "        self.layer1 = self.make_layer(ResidualBlock, 64,  2, stride=1)\n",
    "        self.layer2 = self.make_layer(ResidualBlock, 128, 2, stride=2)\n",
    "        self.layer3 = self.make_layer(ResidualBlock, 256, 2, stride=2)\n",
    "        self.layer4 = self.make_layer(ResidualBlock, 512, 2, stride=2)\n",
    "        self.fc = nn.Linear(512, num_classes)\n",
    "\n",
    "    def make_layer(self, block, channels, num_blocks, stride):\n",
    "        strides = [stride] + [1] * (num_blocks - 1)   #strides=[1,1]\n",
    "        layers = []\n",
    "        for stride in strides:\n",
    "            layers.append(block(self.inchannel, channels, stride))\n",
    "            self.inchannel = channels\n",
    "        return nn.Sequential(*layers)\n",
    "\n",
    "    def forward(self, x):\n",
    "        out = self.conv1(x)\n",
    "        out = self.layer1(out)\n",
    "        out = self.layer2(out)\n",
    "        out = self.layer3(out)\n",
    "        out = self.layer4(out)\n",
    "        out = F.avg_pool2d(out, 4)\n",
    "        out = out.view(out.size(0), -1)\n",
    "        out = self.fc(out)\n",
    "        return out\n",
    "    \n",
    "def Net_cifar10_ResNet():\n",
    "    return ResNet(ResidualBlock)"
   ]
  },
  {
   "cell_type": "code",
   "execution_count": 15,
   "metadata": {},
   "outputs": [],
   "source": [
    "# Select the model based on the configuration \n",
    "modelType = config.learning.model\n",
    "if modelType == \"ResNet\":\n",
    "    Net_cifar10 = Net_cifar10_ResNet\n",
    "if modelType == \"CNN3\":\n",
    "    Net_cifar10 = Net_cifar10_CNN3\n",
    "if modelType == \"CNN2\":\n",
    "    Net_cifar10 = Net_cifar10_CNN2\n",
    "    \n",
    "## move the model to the computing device(GPU/CPU)\n",
    "targetModel = Net_cifar10().to(device)"
   ]
  },
  {
   "cell_type": "markdown",
   "metadata": {},
   "source": [
    "### Step 4: Define loss function, optimizer, and learning rate scheduler"
   ]
  },
  {
   "cell_type": "code",
   "execution_count": 16,
   "metadata": {},
   "outputs": [],
   "source": [
    "import torch.optim as optim\n",
    "from torch.optim import lr_scheduler # learning rate stragegy"
   ]
  },
  {
   "cell_type": "code",
   "execution_count": 17,
   "metadata": {},
   "outputs": [],
   "source": [
    "# since we are classifying images into more than two classes \n",
    "# we will use cross-entropy as a loss function.\n",
    "criterion = nn.CrossEntropyLoss()\n",
    "\n",
    "# to optimize the network we will employ \n",
    "# stochastic gradient descent (SGD) with momentum to \n",
    "# help get us over local minima and saddle points in the loss function space.\n",
    "optimizer = optim.SGD(targetModel.parameters(),\n",
    "                      lr = config.learning.learningRate,\n",
    "                      momentum = config.learning.momentum)\n",
    "\n",
    "exp_lr_scheduler = lr_scheduler.StepLR(optimizer,\n",
    "                                       step_size=config.learning.decreaseStepSize,\n",
    "                                       gamma=config.learning.decreaseFactor)"
   ]
  },
  {
   "cell_type": "markdown",
   "metadata": {},
   "source": [
    "### Step 5: Train & Test the Target Model"
   ]
  },
  {
   "cell_type": "code",
   "execution_count": 18,
   "metadata": {},
   "outputs": [],
   "source": [
    "import copy\n",
    "from torchvision import datasets, models\n",
    "\n",
    "def trainModel(model, criterion, optimizer, scheduler, dataloaders, dataset_sizes, numberOfEpochs=25):\n",
    "    since = time.time() # record the starting time\n",
    "    modelWeights = copy.deepcopy(model.state_dict())\n",
    "    accuracy = 0\n",
    "    trainingRecord = np.zeros((4,numberOfEpochs)) # Record the accuracy and loss v.s. epoches in training and test\n",
    "    device = torch.device(\"cuda:0\" if torch.cuda.is_available() else \"cpu\")\n",
    "    for epoch in range(numberOfEpochs):\n",
    "        # Initialize lists\n",
    "        PredictionVectors = [] # the output of the model\n",
    "        InOrOutLabel = [] # Whether this instance comes from the training set \n",
    "        Class = [] # instance predicted label\n",
    "        predLabel = [] # test set's predicted label\n",
    "        actualLabel = [] # test set's ground truth label\n",
    "\n",
    "        # Each epoch has a training and validation phase\n",
    "        for phase in ['train', 'val']:\n",
    "            if phase == 'train':\n",
    "                scheduler.step()\n",
    "                model.train()  # Set model to training mode\n",
    "            else:\n",
    "                model.eval()   # Set model to evaluate mode\n",
    "            # Initialize records of the losses and the number of correct predictions\n",
    "            runLoss = 0.0\n",
    "            runCorrects = 0\n",
    "            # Iterate over data.\n",
    "            for batch_idx, (data, target) in enumerate( dataloaders[phase]):\n",
    "                inputs, labels = data.to(device), target.to(device)\n",
    "                optimizer.zero_grad() # initialize --> set the gradients to be zero\n",
    "                with torch.set_grad_enabled(phase == 'train'):\n",
    "                    outputs = model(inputs) # forward propagation\n",
    "                    # choose the class with the largest probability as the predicted label\n",
    "                    _, preds = torch.max(outputs, 1) \n",
    "                    loss = criterion(outputs, labels)\n",
    "                    # at the final epoch, evaluate the result\n",
    "                    if epoch == numberOfEpochs-1:\n",
    "                        for output in outputs.cpu().detach().numpy():\n",
    "                            # put all the instances' prediction vector in a list\n",
    "                            PredictionVectors.append(output)\n",
    "                            if phase == \"train\":\n",
    "                                InOrOutLabel.append(1) # 1 stands for being in the training set\n",
    "                            else:\n",
    "                                InOrOutLabel.append(0) # 0 stands for not being in the training set\n",
    "                        for category in labels.cpu().detach().numpy():\n",
    "                            Class.append(category)\n",
    "                        # on the test set, record the predictions and truth labels \n",
    "                        if phase == 'val':\n",
    "                            for predition in preds.cpu().detach().numpy():\n",
    "                                predLabel.append(predition)\n",
    "                            for label in labels.cpu().detach().numpy():\n",
    "                                actualLabel.append(label)\n",
    "                    # on the training set, backward propagate and optimize the model's parameters.\n",
    "                    if phase == 'train':\n",
    "                        loss.backward()\n",
    "                        optimizer.step()\n",
    "                # summarize and update loss and accuracy at the end of each batch\n",
    "                runLoss += loss.item() * inputs.size(0)\n",
    "                runCorrects += torch.sum(preds == labels.data)\n",
    "            # summarize the loss and the accuracy at the end of each epoch\n",
    "            epochLoss = runLoss / dataset_sizes[phase]\n",
    "            epochAccuracy = runCorrects.double() / dataset_sizes[phase]\n",
    "            if phase == 'train': # on the training set\n",
    "                trainingRecord[0][epoch] = epochLoss\n",
    "                trainingRecord[1][epoch] = epochAccuracy\n",
    "            else: # on the test set\n",
    "                trainingRecord[2][epoch] = epochLoss\n",
    "                trainingRecord[3][epoch] = epochAccuracy\n",
    "            # save the best model's parameters\n",
    "            if phase == 'val' and epochAccuracy > accuracy:\n",
    "                accuracy = epochAccuracy\n",
    "                modelWeights = copy.deepcopy(model.state_dict())\n",
    "\n",
    "    timeUsed = time.time() - since # calculate time used\n",
    "    print('Complete training in {:.0f} minutes {:.0f} seconds'.format(timeUsed//60, timeUsed%60)) # format the time\n",
    "    return model, trainingRecord, np.array(PredictionVectors), np.array(InOrOutLabel), np.array(Class), np.array(predLabel), np.array(actualLabel)"
   ]
  },
  {
   "cell_type": "code",
   "execution_count": 19,
   "metadata": {},
   "outputs": [
    {
     "name": "stderr",
     "output_type": "stream",
     "text": [
      "D:\\Anaconda\\envs\\honor\\lib\\site-packages\\torch\\optim\\lr_scheduler.py:122: UserWarning: Detected call of `lr_scheduler.step()` before `optimizer.step()`. In PyTorch 1.1.0 and later, you should call them in the opposite order: `optimizer.step()` before `lr_scheduler.step()`.  Failure to do this will result in PyTorch skipping the first value of the learning rate schedule. See more details at https://pytorch.org/docs/stable/optim.html#how-to-adjust-learning-rate\n",
      "  \"https://pytorch.org/docs/stable/optim.html#how-to-adjust-learning-rate\", UserWarning)\n"
     ]
    },
    {
     "name": "stdout",
     "output_type": "stream",
     "text": [
      "Complete training in 14 minutes 12 seconds\n"
     ]
    }
   ],
   "source": [
    "'''\n",
    "The targetTrainingRecord consists of [loss on training set per epoch,\n",
    "                                      accuracy on training set per epoch,\n",
    "                                      loss on test set per epoch,\n",
    "                                      accuracy on test set per epoch]\n",
    "'''\n",
    "targetModel, targetTrainingRecord, targetPredictionVectors, targetInOrOutLabel, targetClass, predLabelList, actualLabelList = trainModel(targetModel,\n",
    "                                                                                                                           criterion,\n",
    "                                                                                                                           optimizer,\n",
    "                                                                                                                           exp_lr_scheduler,\n",
    "                                                                                                                           targetDataLoader,\n",
    "                                                                                                                           targetDatasetSizes,\n",
    "                                                                                                                           numberOfEpochs=config.learning.epochs)"
   ]
  },
  {
   "cell_type": "markdown",
   "metadata": {},
   "source": [
    "### Step 6: Save result for Attack Model"
   ]
  },
  {
   "cell_type": "code",
   "execution_count": 20,
   "metadata": {},
   "outputs": [],
   "source": [
    "np.savetxt(path + \"/targetTrainingRecord.txt\", targetTrainingRecord)\n",
    "np.savetxt(path + \"/targetPredictionVectors.txt\", targetPredictionVectors)\n",
    "np.savetxt(path + \"/targetInOrOutLabel.txt\", targetInOrOutLabel)\n",
    "np.savetxt(path + \"/targetClass.txt\", targetClass)\n",
    "# Use np.loadtxt to load these files into numpy"
   ]
  },
  {
   "cell_type": "markdown",
   "metadata": {},
   "source": [
    "### Step 7: Visualize some information about the result"
   ]
  },
  {
   "cell_type": "code",
   "execution_count": 21,
   "metadata": {},
   "outputs": [],
   "source": [
    "import matplotlib.pyplot as plt"
   ]
  },
  {
   "cell_type": "code",
   "execution_count": 22,
   "metadata": {},
   "outputs": [
    {
     "data": {
      "image/png": "[encoded data removed]",
      "text/plain": [
       "<Figure size 432x288 with 1 Axes>"
      ]
     },
     "metadata": {
      "needs_background": "light"
     },
     "output_type": "display_data"
    },
    {
     "data": {
      "image/png": "[encoded data removed]",
      "text/plain": [
       "<Figure size 432x288 with 1 Axes>"
      ]
     },
     "metadata": {
      "needs_background": "light"
     },
     "output_type": "display_data"
    }
   ],
   "source": [
    "x = range(len(targetTrainingRecord[0]))\n",
    "plt.plot(x,targetTrainingRecord[0],'-',color='r',label=\"Train Set\")\n",
    "plt.plot(x,targetTrainingRecord[2],'-',color='b',label=\"Val Set\")\n",
    "plt.legend()\n",
    "plt.title(\"Loss vs Epochs\")\n",
    "plt.xlabel(\"Epochs\")\n",
    "plt.ylabel(\"Loss\")\n",
    "plt.grid()\n",
    "plt.savefig(path + \"/LossVSEpochs.jpg\")\n",
    "plt.show()\n",
    "\n",
    "plt.plot(x,targetTrainingRecord[1],'-',color='r',label=\"Train Set\")\n",
    "plt.plot(x,targetTrainingRecord[3],'-',color='b',label=\"Val Set\")\n",
    "plt.legend()\n",
    "plt.title(\"Accuracy vs Epochs\")\n",
    "plt.xlabel(\"Epochs\")\n",
    "plt.ylabel(\"Accuracy\")\n",
    "plt.grid(\"both\")\n",
    "plt.savefig(path + \"/AccuracyVSEpochs.jpg\")\n",
    "plt.show()"
   ]
  },
  {
   "cell_type": "code",
   "execution_count": 23,
   "metadata": {},
   "outputs": [],
   "source": [
    "from sklearn.metrics import confusion_matrix\n",
    "import itertools"
   ]
  },
  {
   "cell_type": "code",
   "execution_count": 24,
   "metadata": {},
   "outputs": [],
   "source": [
    "## Define the function to dram the Confusion Matrix\n",
    "def plot_confusion_matrix(cm, classes, path, normalize=False, title='Confusion matrix', cmap=plt.cm.Blues):\n",
    "    if normalize:\n",
    "        cm = cm.astype('float') / cm.sum(axis=1)[:, np.newaxis]\n",
    "        print(\"Normalized confusion matrix\")\n",
    "    else:\n",
    "        print('Confusion matrix, without normalization')\n",
    "    #print(cm)\n",
    "    plt.imshow(cm, interpolation='nearest', cmap=cmap)\n",
    "    plt.title(title)\n",
    "    plt.colorbar()\n",
    "    tick_marks = np.arange(len(classes))\n",
    "    plt.xticks(tick_marks, classes, rotation=45)\n",
    "    plt.yticks(tick_marks, classes)\n",
    "    fmt = '.2f' if normalize else 'd'\n",
    "    thresh = cm.max() / 2.\n",
    "    for i, j in itertools.product(range(cm.shape[0]), range(cm.shape[1])):\n",
    "        plt.text(j, i, format(cm[i, j], fmt), horizontalalignment=\"center\", color=\"white\" if cm[i, j] > thresh else \"black\")\n",
    "    plt.tight_layout()\n",
    "    plt.ylabel('True label')\n",
    "    plt.xlabel('Predicted label')\n",
    "    plt.savefig(path + \"/CM.png\")\n",
    "    plt.show()"
   ]
  },
  {
   "cell_type": "code",
   "execution_count": 25,
   "metadata": {},
   "outputs": [
    {
     "name": "stdout",
     "output_type": "stream",
     "text": [
      "Normalized confusion matrix\n"
     ]
    },
    {
     "data": {
      "image/png": "[encoded data removed]",
      "text/plain": [
       "<Figure size 432x288 with 2 Axes>"
      ]
     },
     "metadata": {
      "needs_background": "light"
     },
     "output_type": "display_data"
    }
   ],
   "source": [
    "cm = confusion_matrix(actualLabelList, predLabelList)\n",
    "classes = ('airplane', 'car', 'bird', 'cat', 'deer', 'dog', 'frog', 'horse', 'ship', 'truck')\n",
    "plot_confusion_matrix(cm=cm, classes=classes, path=path, normalize=True)"
   ]
  },
  {
   "cell_type": "markdown",
   "metadata": {},
   "source": [
    "# Stage 2: Train the Shadow Models"
   ]
  },
  {
   "cell_type": "code",
   "execution_count": 26,
   "metadata": {
    "scrolled": true
   },
   "outputs": [
    {
     "name": "stdout",
     "output_type": "stream",
     "text": [
      "Start training Shadow Model No.0\n",
      "Files already downloaded and verified\n"
     ]
    },
    {
     "name": "stderr",
     "output_type": "stream",
     "text": [
      "D:\\Anaconda\\envs\\honor\\lib\\site-packages\\torch\\optim\\lr_scheduler.py:122: UserWarning: Detected call of `lr_scheduler.step()` before `optimizer.step()`. In PyTorch 1.1.0 and later, you should call them in the opposite order: `optimizer.step()` before `lr_scheduler.step()`.  Failure to do this will result in PyTorch skipping the first value of the learning rate schedule. See more details at https://pytorch.org/docs/stable/optim.html#how-to-adjust-learning-rate\n",
      "  \"https://pytorch.org/docs/stable/optim.html#how-to-adjust-learning-rate\", UserWarning)\n"
     ]
    },
    {
     "name": "stdout",
     "output_type": "stream",
     "text": [
      "Complete training in 14 minutes 34 seconds\n",
      "Start training Shadow Model No.1\n",
      "Files already downloaded and verified\n",
      "Complete training in 15 minutes 52 seconds\n",
      "Start training Shadow Model No.2\n",
      "Files already downloaded and verified\n",
      "Complete training in 13 minutes 51 seconds\n",
      "Start training Shadow Model No.3\n",
      "Files already downloaded and verified\n",
      "Complete training in 13 minutes 51 seconds\n",
      "Start training Shadow Model No.4\n",
      "Files already downloaded and verified\n",
      "Complete training in 13 minutes 55 seconds\n",
      "Start training Shadow Model No.5\n",
      "Files already downloaded and verified\n",
      "Complete training in 13 minutes 51 seconds\n",
      "Start training Shadow Model No.6\n",
      "Files already downloaded and verified\n",
      "Complete training in 13 minutes 55 seconds\n",
      "Start training Shadow Model No.7\n",
      "Files already downloaded and verified\n",
      "Complete training in 13 minutes 51 seconds\n",
      "Start training Shadow Model No.8\n",
      "Files already downloaded and verified\n",
      "Complete training in 13 minutes 51 seconds\n",
      "Start training Shadow Model No.9\n",
      "Files already downloaded and verified\n",
      "Complete training in 13 minutes 51 seconds\n"
     ]
    }
   ],
   "source": [
    "ShadowAllModels = []\n",
    "ShadowAllDataloaders = []\n",
    "ShadowsPredictionVectors = []\n",
    "ShadowsInOrOutLabels = []\n",
    "ShadowsClasses = []\n",
    "\n",
    "for IndexOfShadowModel in range(config.general.number_shadow_model):\n",
    "    print(\"Start training Shadow Model No.{}\".format(IndexOfShadowModel))\n",
    "    # Extract data records from the data set\n",
    "    shadowTrainData = custumCIFAR10(False, IndexOfShadowModel, config, '../data', train=True, download=True,\n",
    "                   transform=transforms.Compose([\n",
    "                       transforms.ToTensor(),\n",
    "                       transforms.Normalize(mean=[0.4914,0.4822, 0.4465],std=[0.2023,0.1994,0.2010])\n",
    "                   ]))\n",
    "    shadowTestData = custumCIFAR10(False, IndexOfShadowModel, config, '../data', train=False, transform=transforms.Compose([\n",
    "                       transforms.ToTensor(),\n",
    "                        transforms.Normalize(mean=[0.4914,0.4822, 0.4465],std=[0.2023,0.1994,0.2010])\n",
    "                   ]))\n",
    "    # Use dataloader to load the data records for training shadow models\n",
    "    shadowTrainLoader = torch.utils.data.DataLoader(shadowTrainData, batch_size=config.learning.batchSize, shuffle=True)\n",
    "    shadowTestLoader = torch.utils.data.DataLoader(shadowTestData, batch_size=config.learning.batchSize, shuffle=True)\n",
    "    shadowDataloaders = {\"train\": shadowTrainLoader, \"val\": shadowTestLoader}\n",
    "    shadowDatasetSizes = {\"train\": len(shadowTrainData), \"val\": len(shadowTestData)}\n",
    "    # Set up the model on the device(GPU/CPU)\n",
    "    shadowModel = Net_cifar10().to(device)\n",
    "    # Define the loss function, optimizing strategy and learning rate scheduler.\n",
    "    criterion = nn.CrossEntropyLoss()\n",
    "    optimizer = optim.SGD(shadowModel.parameters(), lr=config.learning.learningRate, momentum=config.learning.momentum)\n",
    "    exp_lr_scheduler = lr_scheduler.StepLR(optimizer,\n",
    "                                           step_size=config.learning.decreaseStepSize,\n",
    "                                           gamma=config.learning.decreaseFactor)\n",
    "    shadowModel, shadowTrainingRecord, shadowPredictionVectors, shadowInOrOutLabels, shadowClasses, _, _ = trainModel(shadowModel,\n",
    "                                                                                                                  criterion,\n",
    "                                                                                                                  optimizer,\n",
    "                                                                                                                  exp_lr_scheduler,\n",
    "                                                                                                                  shadowDataloaders,\n",
    "                                                                                                                  shadowDatasetSizes,\n",
    "                                                                                                                  numberOfEpochs=config.learning.epochs)\n",
    "    \n",
    "    '''\n",
    "    x = range(len(shadowTrainingRecord[0]))\n",
    "    plt.plot(x,shadowTrainingRecord[0],'-',color='r',label=\"Train Set\")\n",
    "    plt.plot(x,shadowTrainingRecord[2],'-',color='b',label=\"Val Set\")\n",
    "    plt.legend()\n",
    "    plt.title(\"Loss vs Epochs\")\n",
    "    plt.xlabel(\"Epochs\")\n",
    "    plt.ylabel(\"Loss\")\n",
    "    plt.grid()\n",
    "    plt.savefig(path + \"/LossVSEpochs.jpg\")\n",
    "    plt.show()\n",
    "\n",
    "    plt.plot(x,shadowTrainingRecord[1],'-',color='r',label=\"Train Set\")\n",
    "    plt.plot(x,shadowTrainingRecord[3],'-',color='b',label=\"Val Set\")\n",
    "    plt.legend()\n",
    "    plt.title(\"Accuracy vs Epochs\")\n",
    "    plt.xlabel(\"Epochs\")\n",
    "    plt.ylabel(\"Accuracy\")\n",
    "    plt.grid(\"both\")\n",
    "    plt.savefig(path + \"/AccuracyVSEpochs.jpg\")\n",
    "    plt.show()\n",
    "    '''\n",
    "    \n",
    "    ShadowsPredictionVectors.append(shadowPredictionVectors)\n",
    "    ShadowsInOrOutLabels.append(shadowInOrOutLabels)\n",
    "    ShadowsClasses.append(shadowClasses)\n",
    "    ShadowAllModels.append(shadowModel)\n",
    "    ShadowAllDataloaders.append(shadowDataloaders)\n",
    "    np.savetxt(path + \"/shadowTrainingRecord\"+str(IndexOfShadowModel)+\".txt\", shadowTrainingRecord)"
   ]
  },
  {
   "cell_type": "markdown",
   "metadata": {},
   "source": [
    "# Stage 3: Train the Attack Models"
   ]
  },
  {
   "cell_type": "code",
   "execution_count": 27,
   "metadata": {},
   "outputs": [],
   "source": [
    "from sklearn.utils import shuffle"
   ]
  },
  {
   "cell_type": "code",
   "execution_count": 28,
   "metadata": {},
   "outputs": [],
   "source": [
    "ShadowsPredictionVectors = np.concatenate(ShadowsPredictionVectors)\n",
    "ShadowsInOrOutLabels = np.concatenate(ShadowsInOrOutLabels)\n",
    "ShadowsClasses = np.concatenate(ShadowsClasses)\n",
    "ShadowsPredictionVectors, ShadowsInOrOutLabels, ShadowsClasses = shuffle(ShadowsPredictionVectors,\n",
    "                                                                         ShadowsInOrOutLabels,\n",
    "                                                                         ShadowsClasses,\n",
    "                                                                         random_state=config.general.seed)\n",
    "targetPredictionVectors, targetInOrOutLabel, targetClass = shuffle(targetPredictionVectors,\n",
    "                                                                   targetInOrOutLabel,\n",
    "                                                                   targetClass,\n",
    "                                                                   random_state=config.general.seed)"
   ]
  },
  {
   "cell_type": "code",
   "execution_count": 29,
   "metadata": {},
   "outputs": [],
   "source": [
    "overlapRate = config.evaluate.overlapRate\n",
    "\n",
    "np.savetxt(path + \"\\\\\" + str(overlapRate*100) + \"ShadowsPredictionVectors.txt\", ShadowsPredictionVectors)\n",
    "np.savetxt(path + \"\\\\\" + str(overlapRate*100) + \"ShadowsInOrOutLabels.txt\", ShadowsInOrOutLabels)\n",
    "np.savetxt(path + \"\\\\\" + str(overlapRate*100) + \"ShadowsClasses.txt\", ShadowsClasses)"
   ]
  },
  {
   "cell_type": "code",
   "execution_count": 30,
   "metadata": {},
   "outputs": [],
   "source": [
    "restrictDataTrain = ShadowsPredictionVectors.copy()\n",
    "restrictDataTest = targetPredictionVectors.copy()"
   ]
  },
  {
   "cell_type": "code",
   "execution_count": 31,
   "metadata": {},
   "outputs": [],
   "source": [
    "# Set the smallest i items in the prediction vector to be 0\n",
    "i = config.general.number_shadow_model\n",
    "\n",
    "for j in range(len(restrictDataTrain)):\n",
    "    restrictIndex = np.argsort(restrictDataTrain[j])[:i]\n",
    "    for k in restrictIndex:\n",
    "        restrictDataTrain[j][k] = 0\n",
    "\n",
    "for j in range(len(restrictDataTest)):\n",
    "    restrictIndex = np.argsort(restrictDataTest[j])[:i]\n",
    "    for k in restrictIndex:\n",
    "        restrictDataTest[j][k] = 0"
   ]
  },
  {
   "cell_type": "code",
   "execution_count": 32,
   "metadata": {},
   "outputs": [
    {
     "name": "stdout",
     "output_type": "stream",
     "text": [
      "[ 2.3608341  1.4167799 -0.7492846 -2.261207  -2.3140092 -3.4595063\n",
      " -3.1075883 -2.2614062  4.389033   1.6717447]\n",
      "Above vector is restricted to be only top 0 available as followed:\n",
      "[ 2.3608341  1.4167799 -0.7492846 -2.261207  -2.3140092 -3.4595063\n",
      " -3.1075883 -2.2614062  4.389033   1.6717447]\n"
     ]
    }
   ],
   "source": [
    "print(ShadowsPredictionVectors[0])\n",
    "print(\"Above vector is restricted to be only top \" + str(i) + \" available as followed:\")\n",
    "print(restrictDataTrain[0])"
   ]
  },
  {
   "cell_type": "code",
   "execution_count": 33,
   "metadata": {},
   "outputs": [],
   "source": [
    "import lightgbm as lgb # gradient boost machine\n",
    "from sklearn.metrics import precision_recall_fscore_support, accuracy_score"
   ]
  },
  {
   "cell_type": "code",
   "execution_count": 34,
   "metadata": {},
   "outputs": [
    {
     "name": "stdout",
     "output_type": "stream",
     "text": [
      "Size of Attack Model's Training Set: 54000\n",
      "Size of Attack Model's Testing Set: 5400\n",
      "For Class 0, Precision: 0.7722, Recall: 0.6560, Accuracy: 0.8590\n",
      "For Class 1, Precision: 0.6822, Recall: 0.6762, Accuracy: 0.8337\n",
      "For Class 2, Precision: 0.7546, Recall: 0.6397, Accuracy: 0.8587\n",
      "For Class 3, Precision: 0.7991, Recall: 0.7012, Accuracy: 0.8713\n",
      "For Class 4, Precision: 0.6869, Recall: 0.6559, Accuracy: 0.8459\n",
      "For Class 5, Precision: 0.7284, Recall: 0.6713, Accuracy: 0.8585\n",
      "For Class 6, Precision: 0.6994, Recall: 0.6104, Accuracy: 0.8307\n",
      "For Class 7, Precision: 0.6821, Recall: 0.5961, Accuracy: 0.8243\n",
      "For Class 8, Precision: 0.8622, Recall: 0.6673, Accuracy: 0.8796\n",
      "For Class 9, Precision: 0.7961, Recall: 0.7374, Accuracy: 0.8741\n"
     ]
    }
   ],
   "source": [
    "print(\"Size of Attack Model's Training Set:\", len(ShadowsInOrOutLabels))\n",
    "print(\"Size of Attack Model's Testing Set:\", len(targetInOrOutLabel))\n",
    "\n",
    "precisionPerClass, recallPerClass, accuracyPerClass = [], [], []\n",
    "classes = [0,1,2,3,4,5,6,7,8,9]\n",
    "predictedLabelAll = np.zeros(len(targetPredictionVectors))\n",
    "\n",
    "for indexOfClass in classes:\n",
    "    # Find out and group up data records with the same ground-truth label\n",
    "    instanceWithSameClass = np.where(ShadowsClasses == indexOfClass)\n",
    "    # For each group, train a unique attack sub-model\n",
    "    model = lgb.LGBMClassifier(objective = 'binary', # binary classification problem, for the attack model\n",
    "                               reg_lambda = config.learning.LGBM.reg_lambda,\n",
    "                               n_estimators = config.learning.LGBM.n_estimators)\n",
    "    model.fit(restrictDataTrain[instanceWithSameClass],  # prediction vectors\n",
    "              ShadowsInOrOutLabels[instanceWithSameClass]) # in/out the training set\n",
    "        # the attack model try to distinguish the differece of between the prediction vectors \n",
    "        # whose data is in the training set and not in the training set \n",
    "    # For each group, evaluate its cooresponding attack sub-model's performance\n",
    "    instanceWithSameClass = np.where(targetClass == indexOfClass)\n",
    "    predictedLabels = model.predict(restrictDataTest[instanceWithSameClass])\n",
    "    precision, recall, _, _ = precision_recall_fscore_support(y_true=targetInOrOutLabel[instanceWithSameClass],\n",
    "                                                              y_pred=predictedLabels,\n",
    "                                                              average = \"macro\")\n",
    "    accuracy = accuracy_score(y_true=targetInOrOutLabel[instanceWithSameClass], y_pred=predictedLabels)\n",
    "    # Save the result\n",
    "    precisionPerClass.append(precision)\n",
    "    recallPerClass.append(recall)\n",
    "    accuracyPerClass.append(accuracy)\n",
    "    predictedLabelAll[instanceWithSameClass] = predictedLabels\n",
    "    print(\"For Class {}, Precision: {:.4f}, Recall: {:.4f}, Accuracy: {:.4f}\".format(indexOfClass, precision, recall, accuracy))"
   ]
  },
  {
   "cell_type": "code",
   "execution_count": 35,
   "metadata": {},
   "outputs": [
    {
     "name": "stdout",
     "output_type": "stream",
     "text": [
      "Overall Performance, Precision: 0.7409, Recall: 0.6602, Accuracy: 0.8537\n"
     ]
    }
   ],
   "source": [
    "#  Calculate the overall performance of the attack model\n",
    "precisionOverall, recallOverall, _, _ = precision_recall_fscore_support(y_true=targetInOrOutLabel,\n",
    "                                                                        y_pred=predictedLabelAll,\n",
    "                                                                        average = \"macro\")\n",
    "accuracyOverall = accuracy_score(y_true=targetInOrOutLabel, y_pred=predictedLabelAll)   \n",
    "print(\"Overall Performance, Precision: {:.4f}, Recall: {:.4f}, Accuracy: {:.4f}\".format(precisionOverall,\n",
    "                                                                                        recallOverall,\n",
    "                                                                                        accuracyOverall))"
   ]
  },
  {
   "cell_type": "code",
   "execution_count": 36,
   "metadata": {},
   "outputs": [
    {
     "data": {
      "image/png": "[encoded data removed]",
      "text/plain": [
       "<Figure size 432x288 with 1 Axes>"
      ]
     },
     "metadata": {
      "needs_background": "light"
     },
     "output_type": "display_data"
    }
   ],
   "source": [
    "# Print the performance on each class\n",
    "x = range(len(classes))\n",
    "plt.plot(x,precisionPerClass,'-',color='r',label=\"Precision\")\n",
    "plt.plot(x,recallPerClass,'-',color='g',label=\"Recall\")\n",
    "plt.plot(x,accuracyPerClass,'-',color='b',label=\"accuracy\")\n",
    "plt.legend()\n",
    "plt.title(\"Attack Performance per class\")\n",
    "plt.xlabel(\"Class\")\n",
    "plt.ylabel(\"Value\")\n",
    "plt.grid()\n",
    "plt.savefig(path + \"\\\\\" + \"attack.jpg\")\n",
    "plt.show()"
   ]
  },
  {
   "cell_type": "code",
   "execution_count": null,
   "metadata": {},
   "outputs": [],
   "source": []
  }
 ],
 "metadata": {
  "kernelspec": {
   "display_name": "Python 3",
   "language": "python",
   "name": "python3"
  },
  "language_info": {
   "codemirror_mode": {
    "name": "ipython",
    "version": 3
   },
   "file_extension": ".py",
   "mimetype": "text/x-python",
   "name": "python",
   "nbconvert_exporter": "python",
   "pygments_lexer": "ipython3",
   "version": "3.6.6"
  }
 },
 "nbformat": 4,
 "nbformat_minor": 2
}
